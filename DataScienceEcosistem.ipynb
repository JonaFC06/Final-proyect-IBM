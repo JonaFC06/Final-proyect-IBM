{
 "cells": [
  {
   "cell_type": "markdown",
   "id": "af63bfc8-58d2-4a51-9fca-a79ed7d339fb",
   "metadata": {},
   "source": [
    "# Data Science Tools Ecosistem"
   ]
  },
  {
   "cell_type": "markdown",
   "id": "2be39d17-a9bb-46c7-be3f-5903ffbaf6e6",
   "metadata": {},
   "source": [
    "In this data science tools and ecosistem are summarized\n"
   ]
  },
  {
   "cell_type": "markdown",
   "id": "46cb3585-6d42-462c-ac60-ea41d32ccc1c",
   "metadata": {},
   "source": [
    "**Objectives:**\n",
    "- Describe 3 or more languages used by data scientists\n",
    "- Describe 3 or more libraries used by data scientists\n",
    "- Describe 3 or more tools used by data scientists\n",
    "- Perfom arithmetic operations "
   ]
  },
  {
   "cell_type": "markdown",
   "id": "705447ac-d929-463b-93c4-7f0dbe12f283",
   "metadata": {},
   "source": [
    "#### Some of the popular languages that data scientists use are:"
   ]
  },
  {
   "cell_type": "markdown",
   "id": "358fd75e-388a-45a9-bfb6-8860ea09a64c",
   "metadata": {},
   "source": [
    "| Langueages | \n",
    "| ---------- |\n",
    "| Python |\n",
    "| R and RStuio |\n",
    "| SQL |\n",
    "| Julia |\n",
    "| Java |\n",
    "| Scala |\n",
    "| MATLAB |"
   ]
  },
  {
   "cell_type": "markdown",
   "id": "5a47f4a7-1334-4822-8549-57bcc5bdf729",
   "metadata": {},
   "source": [
    "#### Some of the commoly used libraries used by Data Scientists include:"
   ]
  },
  {
   "cell_type": "markdown",
   "id": "4f22f279-5f2f-42b8-8e0f-8f7fdcdaa8bf",
   "metadata": {},
   "source": [
    "| Libraries |\n",
    "| --------- |\n",
    "| Pandas |\n",
    "| Numpy |\n",
    "| scikit-learn |\n",
    "| matplotlib |\n"
   ]
  },
  {
   "cell_type": "markdown",
   "id": "70590da3-affe-4536-b955-6c48e59aebd2",
   "metadata": {},
   "source": [
    "#### Create a markdown cell with a table of Data Science tools"
   ]
  },
  {
   "cell_type": "markdown",
   "id": "1ff1c304-ff07-4a9d-ba76-3e0918467c53",
   "metadata": {},
   "source": [
    "| Data Science tools | Jupiter NoteBooks | RStudio | Apache Zeppelin |\n",
    "| ------------------ | ----------------- | ------- | --------------- |"
   ]
  },
  {
   "cell_type": "markdown",
   "id": "086c31f5-f9bb-408e-ac74-439413497cab",
   "metadata": {},
   "source": [
    "### Below are a few examples of evaluating arithmetic expressions in Python"
   ]
  },
  {
   "cell_type": "markdown",
   "id": "a0459772-ebc5-4fef-98fc-7a951c2b0e02",
   "metadata": {},
   "source": [
    "##### Plus: "
   ]
  },
  {
   "cell_type": "code",
   "execution_count": 1,
   "id": "dc426250-e43c-4f71-8422-cffdc87bb9e3",
   "metadata": {},
   "outputs": [
    {
     "data": {
      "text/plain": [
       "4"
      ]
     },
     "execution_count": 1,
     "metadata": {},
     "output_type": "execute_result"
    }
   ],
   "source": [
    "2 + 2\n"
   ]
  },
  {
   "cell_type": "markdown",
   "id": "cdb344bc-7bb9-4ae6-9500-8f004cec7b50",
   "metadata": {},
   "source": [
    "##### Subtraction:"
   ]
  },
  {
   "cell_type": "code",
   "execution_count": 3,
   "id": "a88b0151-0d69-4420-94ab-62c4addfbb12",
   "metadata": {},
   "outputs": [
    {
     "data": {
      "text/plain": [
       "1"
      ]
     },
     "execution_count": 3,
     "metadata": {},
     "output_type": "execute_result"
    }
   ],
   "source": [
    "3 - 2"
   ]
  },
  {
   "cell_type": "markdown",
   "id": "8e2d62a2-769a-4154-a45b-17dd1ed97e7f",
   "metadata": {},
   "source": [
    "##### Division: "
   ]
  },
  {
   "cell_type": "code",
   "execution_count": 4,
   "id": "05cab337-cf92-4782-a924-26d85093c6b6",
   "metadata": {},
   "outputs": [
    {
     "data": {
      "text/plain": [
       "5.0"
      ]
     },
     "execution_count": 4,
     "metadata": {},
     "output_type": "execute_result"
    }
   ],
   "source": [
    "10 / 2"
   ]
  },
  {
   "cell_type": "markdown",
   "id": "af451123-2e1f-4ac4-8789-277bce568646",
   "metadata": {},
   "source": [
    "##### Multiplication:"
   ]
  },
  {
   "cell_type": "code",
   "execution_count": 5,
   "id": "99f3f4ff-e790-458c-852f-7132d38a66d6",
   "metadata": {},
   "outputs": [
    {
     "data": {
      "text/plain": [
       "4"
      ]
     },
     "execution_count": 5,
     "metadata": {},
     "output_type": "execute_result"
    }
   ],
   "source": [
    "2 * 2"
   ]
  },
  {
   "cell_type": "markdown",
   "id": "3ffee4a7-f713-44e4-9b69-02c9ff1e1a0a",
   "metadata": {},
   "source": [
    "#### Create a code cell to multiply and add numbers:"
   ]
  },
  {
   "cell_type": "markdown",
   "id": "03d4e5f1-71a5-4625-b5f7-018104985ea5",
   "metadata": {},
   "source": [
    "This is a simple arithmetic expression to multiply then add integers."
   ]
  },
  {
   "cell_type": "code",
   "execution_count": 7,
   "id": "a11f8741-03a9-4954-b3ad-b19f5d75d3e7",
   "metadata": {},
   "outputs": [
    {
     "data": {
      "text/plain": [
       "17"
      ]
     },
     "execution_count": 7,
     "metadata": {},
     "output_type": "execute_result"
    }
   ],
   "source": [
    "(3*4) + 5"
   ]
  },
  {
   "cell_type": "markdown",
   "id": "a06c81e6-5c6c-4357-a597-a67e1a3f6701",
   "metadata": {},
   "source": [
    "#### Create a code cell to convert minutes to hours:"
   ]
  },
  {
   "cell_type": "markdown",
   "id": "f6e6fd94-5bce-4849-848a-a78f75afbbf5",
   "metadata": {},
   "source": [
    "This will convert 200 minutes to hours by diving by 60."
   ]
  },
  {
   "cell_type": "code",
   "execution_count": 9,
   "id": "1aac95ef-81a4-4e95-adcb-2cddd5fb8b86",
   "metadata": {},
   "outputs": [
    {
     "data": {
      "text/plain": [
       "3.3333333333333335"
      ]
     },
     "execution_count": 9,
     "metadata": {},
     "output_type": "execute_result"
    }
   ],
   "source": [
    "200*(1 / 60)"
   ]
  },
  {
   "cell_type": "markdown",
   "id": "2c3cc4ab-5ef0-435f-9de9-a639049902ee",
   "metadata": {},
   "source": [
    "## Author:"
   ]
  },
  {
   "cell_type": "markdown",
   "id": "704d9c82-3af8-4261-b850-43c736d4dd38",
   "metadata": {},
   "source": [
    "Jonathan D. Fuentes Calvo"
   ]
  },
  {
   "cell_type": "code",
   "execution_count": null,
   "id": "f0027135-23d2-47cc-88ac-f9846e433c05",
   "metadata": {},
   "outputs": [],
   "source": []
  }
 ],
 "metadata": {
  "kernelspec": {
   "display_name": "Python 3 (ipykernel)",
   "language": "python",
   "name": "python3"
  },
  "language_info": {
   "codemirror_mode": {
    "name": "ipython",
    "version": 3
   },
   "file_extension": ".py",
   "mimetype": "text/x-python",
   "name": "python",
   "nbconvert_exporter": "python",
   "pygments_lexer": "ipython3",
   "version": "3.12.8"
  }
 },
 "nbformat": 4,
 "nbformat_minor": 5
}
